{
 "cells": [
  {
   "cell_type": "code",
   "execution_count": 1,
   "id": "8263b002",
   "metadata": {},
   "outputs": [
    {
     "data": {
      "text/plain": [
       "'C:\\\\Users\\\\nicho\\\\bird-noise'"
      ]
     },
     "execution_count": 1,
     "metadata": {},
     "output_type": "execute_result"
    }
   ],
   "source": [
    "%pwd"
   ]
  },
  {
   "cell_type": "code",
   "execution_count": null,
   "id": "8c0b4ab1",
   "metadata": {},
   "outputs": [],
   "source": [
    "import sys\n",
    "sys.version\n",
    "%matplotlib inline \n",
    "import matplotlib.pyplot as plt"
   ]
  },
  {
   "cell_type": "markdown",
   "id": "8b5a021b",
   "metadata": {},
   "source": [
    "```\n",
    "pip install librosa\n",
    "pip install matplotlib\n",
    "pip install scipy\n",
    "pip install numpy\n",
    "```\n",
    "https://musicinformationretrieval.com/ipython_audio.html"
   ]
  },
  {
   "cell_type": "code",
   "execution_count": null,
   "id": "2eca644b",
   "metadata": {},
   "outputs": [],
   "source": [
    "from scipy.io import wavfile\n",
    "import numpy as np\n",
    "\n",
    "srw, wav_data = wavfile.read('Log_220723_0715.wav')\n",
    "length, channels = wav_data.shape\n",
    "window = 2000000\n",
    "rand_int = np.random.randint(low=0, high=length-window)\n",
    "a_slice = wav_data[rand_int:rand_int+window]"
   ]
  },
  {
   "cell_type": "code",
   "execution_count": null,
   "id": "3bd3e878",
   "metadata": {},
   "outputs": [],
   "source": [
    "another_window = 20000000\n",
    "another_rand_int = np.random.randint(low=0, high=length-another_window)\n",
    "another_slice = wav_data[rand_int:rand_int+another_window]"
   ]
  },
  {
   "cell_type": "code",
   "execution_count": null,
   "id": "70987e87",
   "metadata": {},
   "outputs": [],
   "source": [
    "another_slice.shape"
   ]
  },
  {
   "cell_type": "code",
   "execution_count": null,
   "id": "42495426",
   "metadata": {},
   "outputs": [],
   "source": [
    "plt.plot(another_slice)\n",
    "plt.show()"
   ]
  },
  {
   "cell_type": "code",
   "execution_count": null,
   "id": "87e7d444",
   "metadata": {},
   "outputs": [],
   "source": [
    "fig, axs = plt.subplots(2)\n",
    "duration = len(a_slice)/srw\n",
    "x = np.linspace(0, duration, len(another_slice))\n",
    "axs[0].plot(x, another_slice[:,0])\n",
    "axs[1].plot(x, another_slice[:,1]) # audio channel 1\n",
    "plt.show()"
   ]
  },
  {
   "cell_type": "code",
   "execution_count": null,
   "id": "6494d70c",
   "metadata": {},
   "outputs": [],
   "source": [
    "a_slicec1 = another_slice[:,0]"
   ]
  },
  {
   "cell_type": "code",
   "execution_count": null,
   "id": "4b290d77",
   "metadata": {},
   "outputs": [],
   "source": [
    "plt.specgram(a_slicec1, Fs=srw)\n",
    "plt.show()"
   ]
  },
  {
   "cell_type": "markdown",
   "id": "c819726f",
   "metadata": {},
   "source": [
    "https://www.scottcondron.com/jupyter/visualisation/audio/2020/10/21/interactive-audio-plots-in-jupyter-notebook.html"
   ]
  },
  {
   "cell_type": "code",
   "execution_count": null,
   "id": "6050567d",
   "metadata": {},
   "outputs": [],
   "source": [
    "from scipy.signal import spectrogram\n",
    "import holoviews as hv \n",
    "import panel as pn\n",
    "from scipy.io import wavfile\n",
    "hv.extension(\"bokeh\", logo=False)\n",
    "\n",
    "f, t, sxx = spectrogram(a_slicec1, srw)\n",
    "spec_gram = hv.Image((t, f, np.log10(sxx)), [\"Time (s)\", \"Frequency (hz)\"]).opts(width=600)\n",
    "audio = pn.pane.Audio(a_slicec1, sample_rate=srw, name='Audio', throttle=500)\n",
    "\n",
    "def update_playhead(x,y,t):\n",
    "    if x is None:\n",
    "        return hv.VLine(t)\n",
    "    else:\n",
    "        audio.time = x\n",
    "        return hv.VLine(x)\n",
    "\n",
    "tap_stream = hv.streams.SingleTap(transient=True)\n",
    "time_play_stream = hv.streams.Params(parameters=[audio.param.time], rename={'time': 't'})\n",
    "dmap_time = hv.DynamicMap(update_playhead, streams=[time_play_stream, tap_stream])\n",
    "out = pn.Column(audio, \n",
    "               (spec_gram * dmap_time))"
   ]
  },
  {
   "cell_type": "code",
   "execution_count": null,
   "id": "2899dc4d",
   "metadata": {},
   "outputs": [],
   "source": [
    "out"
   ]
  },
  {
   "cell_type": "code",
   "execution_count": null,
   "id": "4ecafac3",
   "metadata": {},
   "outputs": [],
   "source": []
  }
 ],
 "metadata": {
  "kernelspec": {
   "display_name": "Python 3 (ipykernel)",
   "language": "python",
   "name": "python3"
  },
  "language_info": {
   "codemirror_mode": {
    "name": "ipython",
    "version": 3
   },
   "file_extension": ".py",
   "mimetype": "text/x-python",
   "name": "python",
   "nbconvert_exporter": "python",
   "pygments_lexer": "ipython3",
   "version": "3.11.0"
  }
 },
 "nbformat": 4,
 "nbformat_minor": 5
}
